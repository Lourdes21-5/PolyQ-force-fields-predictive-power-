{
 "cells": [
  {
   "cell_type": "code",
   "execution_count": 1,
   "id": "reduced-forty",
   "metadata": {},
   "outputs": [
    {
     "data": {
      "application/vnd.jupyter.widget-view+json": {
       "model_id": "439901cce94f4e56ba07a0d0504e75a0",
       "version_major": 2,
       "version_minor": 0
      },
      "text/plain": []
     },
     "metadata": {},
     "output_type": "display_data"
    }
   ],
   "source": [
    "import glob\n",
    "import numpy as np\n",
    "import matplotlib.pyplot as plt\n",
    "from functools import reduce\n",
    "import seaborn as sns\n",
    "import pandas as pd\n",
    "import mdtraj as md\n",
    "import scipy.stats as st\n",
    "import nglview as nv\n",
    "import MDAnalysis as mda\n",
    "from nglview.datafiles import PDB,XTC\n",
    "from scipy.spatial.distance import cdist\n",
    "%matplotlib inline\n",
    "import os\n",
    "import matplotlib.pyplot as plt\n",
    "from matplotlib import cm\n",
    "#from scipy.stats import gaussian_kde\n",
    "from Bio.SeqUtils import IUPACData\n",
    "from __future__ import print_function\n",
    "import scipy.cluster.hierarchy\n",
    "from scipy.spatial.distance import squareform\n",
    "import itertools\n",
    "import mdtraj.testing\n",
    "from itertools import product\n",
    "import statistics\n",
    "from statistics import mean, median, mode, stdev"
   ]
  },
  {
   "cell_type": "code",
   "execution_count": 5,
   "id": "confident-sapphire",
   "metadata": {},
   "outputs": [],
   "source": [
    "from pptx import Presentation"
   ]
  },
  {
   "cell_type": "code",
   "execution_count": 6,
   "id": "warming-occasions",
   "metadata": {},
   "outputs": [
    {
     "name": "stderr",
     "output_type": "stream",
     "text": [
      "usage: ipykernel_launcher.py [-h] infile outfile\n",
      "ipykernel_launcher.py: error: the following arguments are required: outfile\n"
     ]
    },
    {
     "ename": "SystemExit",
     "evalue": "2",
     "output_type": "error",
     "traceback": [
      "An exception has occurred, use %tb to see the full traceback.\n",
      "\u001b[0;31mSystemExit\u001b[0m\u001b[0;31m:\u001b[0m 2\n"
     ]
    },
    {
     "name": "stderr",
     "output_type": "stream",
     "text": [
      "/home/lourdes/miniconda3/envs/TFM/lib/python3.8/site-packages/IPython/core/interactiveshell.py:3445: UserWarning: To exit: use 'exit', 'quit', or Ctrl-D.\n",
      "  warn(\"To exit: use 'exit', 'quit', or Ctrl-D.\", stacklevel=1)\n"
     ]
    }
   ],
   "source": [
    "from __future__ import print_function\n",
    "from pptx import Presentation\n",
    "import argparse\n",
    "\n",
    "\n",
    "def parse_args():\n",
    "    \"\"\" Setup the input and output arguments for the script\n",
    "    Return the parsed input and output files\n",
    "    \"\"\"\n",
    "    parser = argparse.ArgumentParser(description='Analyze powerpoint file structure')\n",
    "    parser.add_argument('infile',\n",
    "                        type=argparse.FileType('r'),\n",
    "                        help='Powerpoint file to be analyzed')\n",
    "    parser.add_argument('outfile',\n",
    "                        type=argparse.FileType('w'),\n",
    "                        help='Output powerpoint')\n",
    "    return parser.parse_args()\n",
    "\n",
    "\n",
    "def analyze_ppt(input, output):\n",
    "    \"\"\" Take the input file and analyze the structure.\n",
    "    The output file contains marked up information to make it easier\n",
    "    for generating future powerpoint templates.\n",
    "    \"\"\"\n",
    "    prs = Presentation(input)\n",
    "    # Each powerpoint file has multiple layouts\n",
    "    # Loop through them all and  see where the various elements are\n",
    "    for index, _ in enumerate(prs.slide_layouts):\n",
    "        slide = prs.slides.add_slide(prs.slide_layouts[index])\n",
    "        # Not every slide has to have a title\n",
    "        try:\n",
    "            title = slide.shapes.title\n",
    "            title.text = 'Title for Layout {}'.format(index)\n",
    "        except AttributeError:\n",
    "            print(\"No Title for Layout {}\".format(index))\n",
    "        # Go through all the placeholders and identify them by index and type\n",
    "        for shape in slide.placeholders:\n",
    "            if shape.is_placeholder:\n",
    "                phf = shape.placeholder_format\n",
    "                # Do not overwrite the title which is just a special placeholder\n",
    "                try:\n",
    "                    if 'Title' not in shape.text:\n",
    "                        shape.text = 'Placeholder index:{} type:{}'.format(phf.idx, shape.name)\n",
    "                except AttributeError:\n",
    "                    print(\"{} has no text attribute\".format(phf.type))\n",
    "                print('{} {}'.format(phf.idx, shape.name))\n",
    "    prs.save(output)\n",
    "\n",
    "\n",
    "if __name__ == \"__main__\":\n",
    "    args = parse_args()\n",
    "    analyze_ppt(args.infile.name, args.outfile.name)"
   ]
  },
  {
   "cell_type": "code",
   "execution_count": null,
   "id": "strange-cleveland",
   "metadata": {},
   "outputs": [],
   "source": []
  }
 ],
 "metadata": {
  "kernelspec": {
   "display_name": "Python 3",
   "language": "python",
   "name": "python3"
  },
  "language_info": {
   "codemirror_mode": {
    "name": "ipython",
    "version": 3
   },
   "file_extension": ".py",
   "mimetype": "text/x-python",
   "name": "python",
   "nbconvert_exporter": "python",
   "pygments_lexer": "ipython3",
   "version": "3.8.8"
  }
 },
 "nbformat": 4,
 "nbformat_minor": 5
}
